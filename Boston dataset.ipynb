{
 "cells": [
  {
   "cell_type": "code",
   "execution_count": 2,
   "id": "afb85da7",
   "metadata": {},
   "outputs": [
    {
     "name": "stdout",
     "output_type": "stream",
     "text": [
      "Synthetic Design Matrix (first 5 rows): \n",
      " [[-1.69774938]\n",
      " [-1.62845348]\n",
      " [-1.55915759]\n",
      " [-1.4898617 ]\n",
      " [-1.4205658 ]]\n",
      "\n",
      "California Housing Design Matrix (first 5 rows): \n",
      " [[ 2.34476576  0.98214266]\n",
      " [ 2.33223796 -0.60701891]\n",
      " [ 1.7826994   1.85618152]\n",
      " [ 0.93296751  1.85618152]\n",
      " [-0.012881    1.85618152]]\n"
     ]
    }
   ],
   "source": [
    "import numpy as np\n",
    "import pandas as pd\n",
    "from sklearn.datasets import fetch_california_housing\n",
    "from sklearn.preprocessing import StandardScaler\n",
    "\n",
    "np.random.seed(42)\n",
    "X_synthetic = np.linspace(0, 10, 50).reshape(-1, 1)\n",
    "y_synthetic = 2 * X_synthetic + np.random.normal(0, 1, 50)\n",
    "\n",
    "scaler = StandardScaler()\n",
    "X_synthetic_normalized = scaler.fit_transform(X_synthetic)\n",
    "\n",
    "print(\"Synthetic Design Matrix (first 5 rows): \\n\", X_synthetic_normalized[:5])\n",
    "\n",
    "housing = fetch_california_housing(as_frame=True)\n",
    "df = housing.frame\n",
    "\n",
    "X_boston = df[['MedInc', 'HouseAge']]\n",
    "y_boston = df['MedHouseVal']\n",
    "\n",
    "X_boston_normalized = scaler.fit_transform(X_boston)\n",
    "print(\"\\nCalifornia Housing Design Matrix (first 5 rows): \\n\", X_boston_normalized[:5])\n"
   ]
  },
  {
   "cell_type": "code",
   "execution_count": null,
   "id": "086e4c69",
   "metadata": {},
   "outputs": [],
   "source": [
    "import pandas as pd\n",
    "import numpy as np\n",
    "from sklearn.datasets import fetch_california_housing\n",
    "from sklearn.preprocessing import StandardScaler\n",
    "\n",
    "np.random.seed(42)\n",
    "X_synthetic = np.linspace(0, 10, 50).reshape(-1, 1)\n",
    "y_synthetic = 2 * X_synthetic + np.random.normal(0, 1, 50)"
   ]
  },
  {
   "cell_type": "code",
   "execution_count": null,
   "id": "fd1da2bb",
   "metadata": {},
   "outputs": [],
   "source": [
    "def gradient_descent(X, y, w_init, b_init, learning_rate, num_iterations):\n",
    "    m = len(y)\n",
    "    w = w_init\n",
    "    b = b_init\n",
    "    for i in range(num_iterations):\n",
    "        y_pred = X.dot(w) + b\n",
    "        dw = (1/m) * X.T.dot(y_pred - y)\n",
    "        db = (1/m) * np.sum(y_pred - y)\n",
    "        w -= learning_rate * dw\n",
    "        b -= learning_rate * db\n",
    "    return w, b"
   ]
  },
  {
   "cell_type": "code",
   "execution_count": null,
   "id": "508ba8be",
   "metadata": {},
   "outputs": [],
   "source": [
    "from sklearn.model_selection"
   ]
  }
 ],
 "metadata": {
  "kernelspec": {
   "display_name": "m1_env",
   "language": "python",
   "name": "python3"
  },
  "language_info": {
   "codemirror_mode": {
    "name": "ipython",
    "version": 3
   },
   "file_extension": ".py",
   "mimetype": "text/x-python",
   "name": "python",
   "nbconvert_exporter": "python",
   "pygments_lexer": "ipython3",
   "version": "3.11.11"
  }
 },
 "nbformat": 4,
 "nbformat_minor": 5
}
